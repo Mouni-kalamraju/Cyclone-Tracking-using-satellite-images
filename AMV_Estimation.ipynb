{
  "nbformat": 4,
  "nbformat_minor": 0,
  "metadata": {
    "colab": {
      "provenance": []
    },
    "kernelspec": {
      "name": "python3",
      "display_name": "Python 3"
    },
    "language_info": {
      "name": "python"
    }
  },
  "cells": [
    {
      "cell_type": "code",
      "execution_count": null,
      "metadata": {
        "id": "yePCddmc_IiX"
      },
      "outputs": [],
      "source": [
        "import tensorflow as tf\n",
        "import keras\n",
        "from tensorflow import keras\n",
        "from tensorflow.keras.layers import Input\n",
        "from tensorflow.keras.models import Model\n",
        "from keras.layers import Conv2D, concatenate, Subtract,Multiply,Add,MaxPooling2D,UpSampling2D,Lambda\n",
        "from keras.layers import LeakyReLU\n",
        "from keras.preprocessing.image import load_img, img_to_array\n",
        "from keras.callbacks import EarlyStopping\n",
        "from PIL import Image\n",
        "import os\n",
        "import struct\n",
        "import numpy as np\n",
        "import time\n",
        "import matplotlib.pyplot as plt\n",
        "from matplotlib.pyplot import imread, imsave\n",
        "import os.path as osp\n",
        "import glob\n",
        "from keras import backend as K"
      ]
    },
    {
      "cell_type": "code",
      "execution_count": null,
      "metadata": {
        "id": "Rbahh30o_OzG"
      },
      "outputs": [],
      "source": [
        "def LeakyReLU(x, leak=0.1, name=\"lrelu\"):\n",
        "\n",
        "        f1 = 0.5 * (1.0 + leak)\n",
        "        f2 = 0.5 * (1.0 - leak)\n",
        "        return f1 * x + f2 * abs(x)\n",
        "\n",
        "def read_flow(name):\n",
        "    f = open(name, \"rb\")\n",
        "    data = f.read()\n",
        "    f.close()\n",
        "    width = struct.unpack('@i', data[4:8])[0]\n",
        "    height = struct.unpack('@i', data[8:12])[0]\n",
        "    flowdata = np.zeros((height, width, 2))\n",
        "    for i in range(width*height):\n",
        "        data_u = struct.unpack('@f', data[12+8*i:16+8*i])[0]\n",
        "        data_v = struct.unpack('@f', data[16+8*i:20+8*i])[0]\n",
        "        n = int(i / width)\n",
        "        k = np.mod(i, width)\n",
        "        flowdata[n, k, :] = [data_u, data_v]\n",
        "    return flowdata"
      ]
    },
    {
      "cell_type": "code",
      "execution_count": null,
      "metadata": {
        "id": "CzQRrFYx_T4P"
      },
      "outputs": [],
      "source": [
        "h = 320\n",
        "w = 320\n",
        "batch_size = 16\n",
        "epochs = 1\n",
        "target_size = (h,w,1)\n",
        "epsilon = 10^(-7)\n",
        "activation = 'LeakyReLU'\n",
        "\n",
        "dir_data = '/cyclone_dataset/images'\n",
        "flow_data = '/cyclone_dataset/flow'\n",
        "outputs = '/cyclone_dataset/outputs/'\n",
        "\n",
        "image_list_1 = []\n",
        "image_list_2 = []\n",
        "flow_list = []\n",
        "\n",
        "for sat in os.listdir(dir_data):\n",
        "    for cyc in os.listdir(osp.join(dir_data, sat)):\n",
        "\n",
        "        image_list = sorted(glob.glob(osp.join(dir_data, sat, cyc, '*.tif')))\n",
        "        flow_list1 = sorted(glob.glob(osp.join(flow_data, sat, cyc, '*.flo')))\n",
        "        for i in range(len(image_list)-1):\n",
        "            image_list_1.append(image_list[i])\n",
        "            image_list_2.append(image_list[i+1])\n",
        "            flow_list.append(flow_list1[i])\n",
        "\n",
        "\n",
        "imglist1 = np.array(image_list_1)\n",
        "imglist2 = np.array(image_list_2)\n",
        "flowlist = np.array(flow_list)\n",
        "\n",
        "del image_list_1, image_list_2, flow_list"
      ]
    },
    {
      "cell_type": "code",
      "execution_count": null,
      "metadata": {
        "id": "RqsIoIzQxgc6"
      },
      "outputs": [],
      "source": [
        "test_data = '/cyclone_dataset/test'\n",
        "test_list_1 = []\n",
        "test_list_2 = []\n",
        "for cyc in os.listdir(test_data):\n",
        "  test = sorted(glob.glob(osp.join(test_data, cyc, '*.tif')))\n",
        "\n",
        "for i in range(len(test)-1):\n",
        "    test_list_1.append(test[i])\n",
        "    test_list_2.append(test[i+1])\n",
        "\n",
        "ll = len(test_list_1)\n",
        "i1=np.zeros((ll,h,w,1),dtype = float)\n",
        "i2=np.zeros((ll,h,w,1),dtype = float)\n",
        "for i in range(ll):\n",
        "  im = Image.open(test_list_1[i])#, color_mode = \"grayscale\", target_size = (h,w))\n",
        "  im = im.convert('L')\n",
        "  im = im.resize((w,h))\n",
        "  i1[i,:,:,0] = np.array(im)\n",
        "\n",
        "  im = Image.open(test_list_2[i])#, color_mode = \"grayscale\", target_size = (h,w))\n",
        "  im = im.convert('L')\n",
        "  im = im.resize((w,h))\n",
        "  i2[i,:,:,0] = np.array(im)"
      ]
    },
    {
      "cell_type": "code",
      "execution_count": null,
      "metadata": {
        "id": "JB4_bd9R1AnQ"
      },
      "outputs": [],
      "source": [
        "import pickle\n",
        "\n",
        "# Open the file in binary mode\n",
        "with open('cyclone_dataset/variables/helen_img2.pkl', 'wb') as file:\n",
        "\n",
        "    # Call load method to deserialze\n",
        "     pickle.dump(i2,file)\n",
        "\n"
      ]
    },
    {
      "cell_type": "code",
      "execution_count": null,
      "metadata": {
        "id": "xtOo5uAp_cTt"
      },
      "outputs": [],
      "source": [
        "ll = len(flowlist)\n",
        "flow_data=np.zeros((ll,h//2,w//2,2),dtype = float)\n",
        "img1=np.zeros((ll,h,w,1),dtype = float)\n",
        "img2=np.zeros((ll,h,w,1),dtype = float)\n",
        "for i in range(ll):\n",
        "  img = Image.open(imglist1[i])#, color_mode = \"grayscale\", target_size = (h,w))\n",
        "  img = img.convert('L')\n",
        "  img = img.resize((w,h))\n",
        "  img1[i,:,:,0] = np.array(img)\n",
        "\n",
        "  img = Image.open(imglist2[i])#, color_mode = \"grayscale\", target_size = (h,w))\n",
        "  img = img.convert('L')\n",
        "  img = img.resize((w,h))\n",
        "  img2[i,:,:,0] = np.array(img)\n",
        "\n",
        "  flow1 = read_flow(flowlist[i])\n",
        "  flow = tf.keras.preprocessing.image.smart_resize(flow1, (h//2, w//2), interpolation='bilinear')\n",
        "  flow_data[i,:,:,:] = np.array(flow, dtype = 'float32')\n",
        "\n"
      ]
    },
    {
      "cell_type": "code",
      "execution_count": null,
      "metadata": {
        "colab": {
          "base_uri": "https://localhost:8080/"
        },
        "id": "61ODovoJlM9H",
        "outputId": "51ecdf64-bcc8-4ddf-b43f-590050b3c0cf"
      },
      "outputs": [
        {
          "output_type": "stream",
          "name": "stdout",
          "text": [
            "(802, 320, 320, 1)\n"
          ]
        }
      ],
      "source": [
        "#import pickle\n",
        "\n",
        "# Open the file in binary mode\n",
        "with open('/cyclone_dataset/variables/img2.pkl', 'rb') as file:\n",
        "\n",
        "    # Call load method to deserialze\n",
        "    img2 = pickle.load(file)\n",
        "\n",
        "print(img2.shape)"
      ]
    },
    {
      "cell_type": "code",
      "execution_count": null,
      "metadata": {
        "colab": {
          "base_uri": "https://localhost:8080/"
        },
        "id": "pyojc2m9_lam",
        "outputId": "004867bd-b784-45f4-cd73-df1d65b67619"
      },
      "outputs": [
        {
          "output_type": "stream",
          "name": "stdout",
          "text": [
            "Model: \"model\"\n",
            "__________________________________________________________________________________________________\n",
            " Layer (type)                Output Shape                 Param #   Connected to                  \n",
            "==================================================================================================\n",
            " input1 (InputLayer)         [(None, 320, 320, 1)]        0         []                            \n",
            "                                                                                                  \n",
            " input2 (InputLayer)         [(None, 320, 320, 1)]        0         []                            \n",
            "                                                                                                  \n",
            " concatenate (Concatenate)   (None, 320, 320, 2)          0         ['input1[0][0]',              \n",
            "                                                                     'input2[0][0]']              \n",
            "                                                                                                  \n",
            " max_pooling2d (MaxPooling2  (None, 160, 160, 2)          0         ['concatenate[0][0]']         \n",
            " D)                                                                                               \n",
            "                                                                                                  \n",
            " layer1 (Conv2D)             (None, 160, 160, 256)        25344     ['max_pooling2d[0][0]']       \n",
            "                                                                                                  \n",
            " conv2d (Conv2D)             (None, 160, 160, 256)        1638656   ['layer1[0][0]']              \n",
            "                                                                                                  \n",
            " max_pooling2d_1 (MaxPoolin  (None, 80, 80, 256)          0         ['conv2d[0][0]']              \n",
            " g2D)                                                                                             \n",
            "                                                                                                  \n",
            " conv2d_1 (Conv2D)           (None, 80, 80, 512)          3277312   ['max_pooling2d_1[0][0]']     \n",
            "                                                                                                  \n",
            " conv2d_2 (Conv2D)           (None, 80, 80, 512)          2359808   ['conv2d_1[0][0]']            \n",
            "                                                                                                  \n",
            " max_pooling2d_2 (MaxPoolin  (None, 40, 40, 512)          0         ['conv2d_2[0][0]']            \n",
            " g2D)                                                                                             \n",
            "                                                                                                  \n",
            " conv2d_3 (Conv2D)           (None, 40, 40, 512)          2359808   ['max_pooling2d_2[0][0]']     \n",
            "                                                                                                  \n",
            " conv2d_4 (Conv2D)           (None, 40, 40, 512)          2359808   ['conv2d_3[0][0]']            \n",
            "                                                                                                  \n",
            " max_pooling2d_3 (MaxPoolin  (None, 20, 20, 512)          0         ['conv2d_4[0][0]']            \n",
            " g2D)                                                                                             \n",
            "                                                                                                  \n",
            " conv2d_5 (Conv2D)           (None, 20, 20, 512)          2359808   ['max_pooling2d_3[0][0]']     \n",
            "                                                                                                  \n",
            " conv2d_6 (Conv2D)           (None, 20, 20, 1024)         525312    ['conv2d_5[0][0]']            \n",
            "                                                                                                  \n",
            " max_pooling2d_4 (MaxPoolin  (None, 10, 10, 1024)         0         ['conv2d_6[0][0]']            \n",
            " g2D)                                                                                             \n",
            "                                                                                                  \n",
            " conv2d_7 (Conv2D)           (None, 10, 10, 512)          4719104   ['max_pooling2d_4[0][0]']     \n",
            "                                                                                                  \n",
            " layer10 (Conv2D)            (None, 10, 10, 512)          6554112   ['conv2d_7[0][0]']            \n",
            "                                                                                                  \n",
            " max_pooling2d_5 (MaxPoolin  (None, 5, 5, 512)            0         ['layer10[0][0]']             \n",
            " g2D)                                                                                             \n",
            "                                                                                                  \n",
            " conv2d_8 (Conv2D)           (None, 5, 5, 512)            6554112   ['max_pooling2d_5[0][0]']     \n",
            "                                                                                                  \n",
            " up_sampling2d (UpSampling2  (None, 10, 10, 512)          0         ['conv2d_8[0][0]']            \n",
            " D)                                                                                               \n",
            "                                                                                                  \n",
            " conv2d_9 (Conv2D)           (None, 10, 10, 512)          6554112   ['up_sampling2d[0][0]']       \n",
            "                                                                                                  \n",
            " up_sampling2d_1 (UpSamplin  (None, 20, 20, 512)          0         ['conv2d_9[0][0]']            \n",
            " g2D)                                                                                             \n",
            "                                                                                                  \n",
            " conv2d_10 (Conv2D)          (None, 20, 20, 512)          6554112   ['up_sampling2d_1[0][0]']     \n",
            "                                                                                                  \n",
            " up_sampling2d_2 (UpSamplin  (None, 40, 40, 512)          0         ['conv2d_10[0][0]']           \n",
            " g2D)                                                                                             \n",
            "                                                                                                  \n",
            " conv2d_11 (Conv2D)          (None, 40, 40, 512)          6554112   ['up_sampling2d_2[0][0]']     \n",
            "                                                                                                  \n",
            " up_sampling2d_3 (UpSamplin  (None, 80, 80, 512)          0         ['conv2d_11[0][0]']           \n",
            " g2D)                                                                                             \n",
            "                                                                                                  \n",
            " layer15 (Conv2D)            (None, 80, 80, 2)            25602     ['up_sampling2d_3[0][0]']     \n",
            "                                                                                                  \n",
            " flowout (UpSampling2D)      (None, 160, 160, 2)          0         ['layer15[0][0]']             \n",
            "                                                                                                  \n",
            "==================================================================================================\n",
            "Total params: 52421122 (199.97 MB)\n",
            "Trainable params: 52421122 (199.97 MB)\n",
            "Non-trainable params: 0 (0.00 Byte)\n",
            "__________________________________________________________________________________________________\n"
          ]
        }
      ],
      "source": [
        "def my_net():\n",
        "\n",
        "    i1 = Input(shape=target_size,name = 'input1')\n",
        "    i2 = Input(shape=target_size,name = 'input2')\n",
        "    # it = Subtract()([i2 , i1])\n",
        "\n",
        "    image = concatenate([i1, i2], axis = 3)\n",
        "    # image=Input(shape = target_size)\n",
        "    x = MaxPooling2D(pool_size=(2, 2),padding='same')(image)\n",
        "    #1\n",
        "    x = Conv2D(256, kernel_size=(7, 7),activation=activation,padding='same', name = 'layer1')(x)\n",
        "#    x = LeakyReLU(alpha=0.1)(x)\n",
        "\n",
        "    #2\n",
        "    x = Conv2D(256, (5, 5), activation= activation, padding='same')(x)\n",
        "#    x = LeakyReLU(alpha=0.1)(x)\n",
        "    x = MaxPooling2D(pool_size=(2, 2),padding='same')(x)\n",
        "    #3\n",
        "    x = Conv2D(512, (5, 5), activation= activation, padding='same')(x)\n",
        "#    x = LeakyReLU(alpha=0.1)(x)\n",
        "\n",
        "    #4\n",
        "    x = Conv2D(512, (3,3), activation= activation,padding='same')(x)\n",
        "#    x = LeakyReLU(alpha=0.1)(x)\n",
        "    x = MaxPooling2D(pool_size=(2, 2),padding='same')(x)\n",
        "    #5\n",
        "    x = Conv2D(512, (3,3), activation= activation, padding='same')(x)\n",
        "#    x = LeakyReLU(alpha=0.1)(x)\n",
        "    #6\n",
        "    x = Conv2D(512, (3,3), activation= activation ,padding='same')(x)\n",
        "#    x = LeakyReLU(alpha=0.1)(x)\n",
        "    x = MaxPooling2D(pool_size=(2, 2),padding='same')(x)\n",
        "    #7\n",
        "    x = Conv2D(512, (3,3), activation=activation,padding='same')(x)\n",
        "#    x = LeakyReLU(alpha=0.1)(x)\n",
        "    #8\n",
        "    x = Conv2D(1024, (1,1), activation=activation,padding='same')(x)\n",
        "#    x = LeakyReLU(alpha=0.1)(x)\n",
        "    x = MaxPooling2D(pool_size=(2, 2),padding='same')(x)\n",
        "    #9\n",
        "    x = Conv2D(512, (3,3), activation=activation,padding='same')(x)\n",
        "#    x = LeakyReLU(alpha=0.1)(x)\n",
        "\n",
        "    #10\n",
        "    x = Conv2D(512, (5, 5), activation=activation,padding='same', name = 'layer10')(x)\n",
        "#    x = LeakyReLU(alpha=0.1)(x)\n",
        "    x = MaxPooling2D(pool_size=(2, 2),padding='same')(x)\n",
        "    #11\n",
        "    x = Conv2D(512, (5, 5), activation=activation,padding='same')(x)\n",
        "#    x = LeakyReLU(alpha=0.1)(x)\n",
        "    x = UpSampling2D(size=(2, 2), data_format=None)(x)\n",
        "    #12\n",
        "    x = Conv2D(512, (5, 5), activation=activation,padding='same')(x)\n",
        "#    x = LeakyReLU(alpha=0.1)(x)\n",
        "    x = UpSampling2D(size=(2, 2), data_format=None)(x)\n",
        "    #13\n",
        "    x = Conv2D(512, (5, 5), activation=activation,padding='same')(x)\n",
        "#    x = LeakyReLU(alpha=0.1)(x)\n",
        "    x = UpSampling2D(size=(2, 2), data_format=None)(x)\n",
        "    #14\n",
        "    x = Conv2D(512, (5, 5), activation=activation,padding='same')(x)\n",
        "#    x = LeakyReLU(alpha=0.1)(x)\n",
        "    x = UpSampling2D(size=(2, 2), data_format=None)(x)\n",
        "    #15\n",
        "    x = Conv2D(2, (5, 5), activation=activation,padding='same',name = 'layer15')(x)\n",
        "#    x = LeakyReLU(alpha=0.1)(x)\n",
        "    x = UpSampling2D(size=(2, 2), data_format=None, name = 'flowout')(x)\n",
        "\n",
        "    my_model = Model(inputs=[i1, i2], outputs=x )\n",
        "\n",
        "    my_model.compile(loss= 'mean_absolute_error', optimizer=keras.optimizers.Adam(learning_rate = 0.0001), metrics=['accuracy'])\n",
        "    my_model.summary()\n",
        "    return my_model\n",
        "\n",
        "my_model = my_net()"
      ]
    },
    {
      "cell_type": "code",
      "execution_count": null,
      "metadata": {
        "id": "kISNUEtS_qt-"
      },
      "outputs": [],
      "source": [
        "history = my_model.fit(x = ([img1, img2]) ,y = flow_data, epochs=40, batch_size = 16,verbose=1)"
      ]
    },
    {
      "cell_type": "code",
      "execution_count": null,
      "metadata": {
        "id": "ircv0wKY_uW-"
      },
      "outputs": [],
      "source": [
        "%cd '/content/'\n",
        "import flo2img\n",
        "plt.imshow(flo2img.flow_to_image(flow_data[1,:,:,:]))"
      ]
    },
    {
      "cell_type": "code",
      "execution_count": null,
      "metadata": {
        "id": "KRpucbfPVP6Y",
        "colab": {
          "base_uri": "https://localhost:8080/"
        },
        "outputId": "9bf5dc24-fb7a-4213-cb21-42599d49718f"
      },
      "outputs": [
        {
          "output_type": "stream",
          "name": "stdout",
          "text": [
            "4/4 [==============================] - 45s 324ms/step\n"
          ]
        }
      ],
      "source": [
        "predictions = my_model.predict(x = ([i1, i2]))"
      ]
    },
    {
      "cell_type": "code",
      "execution_count": null,
      "metadata": {
        "id": "vXmaKKKvh63m"
      },
      "outputs": [],
      "source": [
        "def write_flow(flow, filename):\n",
        "    f = open(filename, 'wb')\n",
        "    magic = np.array([202021.25], dtype = np.float32)\n",
        "    (height, width) = flow.shape[0:2]\n",
        "    w = np.array([width], dtype = np.int32)\n",
        "    h = np.array([height], dtype = np.int32)\n",
        "    magic.tofile(f)\n",
        "    w.tofile(f)\n",
        "    h.tofile(f)\n",
        "    flow.tofile(f)\n",
        "    f.close()"
      ]
    },
    {
      "cell_type": "code",
      "execution_count": null,
      "metadata": {
        "id": "sLJ2VcEshknn"
      },
      "outputs": [],
      "source": [
        "for i in range(len(predictions)):\n",
        "    nameee = str(test_list_1[i])\n",
        "    outpath1 = outputs + \"helen_meteosat_test/\" + str(nameee[59:65]) + \".flo\"\n",
        "    write_flow(predictions[i,:,:,:],outpath1)"
      ]
    },
    {
      "cell_type": "code",
      "execution_count": null,
      "metadata": {
        "id": "KDm7_nNSlFq1"
      },
      "outputs": [],
      "source": [
        "def read_flow(name):\n",
        "    f = open(name, \"rb\")\n",
        "    data = f.read()\n",
        "    f.close()\n",
        "    width = struct.unpack('@i', data[4:8])[0]\n",
        "    height = struct.unpack('@i', data[8:12])[0]\n",
        "    flowdata = np.zeros((height, width, 2))\n",
        "    for i in range(width*height):\n",
        "        data_u = struct.unpack('@f', data[12+8*i:16+8*i])[0]\n",
        "        data_v = struct.unpack('@f', data[16+8*i:20+8*i])[0]\n",
        "        n = int(i / width)\n",
        "        k = np.mod(i, width)\n",
        "        flowdata[n, k, :] = [data_u, data_v]\n",
        "    return flowdata"
      ]
    },
    {
      "cell_type": "code",
      "execution_count": null,
      "metadata": {
        "id": "r5DfkfZ9lNzl"
      },
      "outputs": [],
      "source": [
        "print(outpath1)\n",
        "flow = read_flow(outpath1)\n",
        "plt.imshow(flo2img.flow_to_image(flow))"
      ]
    },
    {
      "cell_type": "code",
      "execution_count": null,
      "metadata": {
        "id": "LniBVysA_wkP"
      },
      "outputs": [],
      "source": [
        "for i in range(len(predictions)):\n",
        "    plt.imshow(flo2img.flow_to_image(predictions[i,:,:,:]))\n",
        "    nameee = str(imglist1[i])\n",
        "    plt.axis('off')\n",
        "    plt.savefig(ouptuts + str(nameee[62:68]) + \".png\" , bbox_inches = 'tight', pad_inches = 0)\n"
      ]
    },
    {
      "cell_type": "code",
      "execution_count": null,
      "metadata": {
        "id": "LuxPEAlgXFRA"
      },
      "outputs": [],
      "source": [
        "# Save the entire model as a SavedModel.\n",
        "!mkdir -p '/cyclone_dataset/outputs/saved_model'\n",
        "my_model.save('/cyclone_dataset/outputs/saved_model/my_model')"
      ]
    },
    {
      "cell_type": "code",
      "execution_count": null,
      "metadata": {
        "id": "j5mPJoW2YekX"
      },
      "outputs": [],
      "source": [
        "# my_model directory\n",
        "!ls '/cyclone_dataset/outputs/saved_model'\n",
        "\n",
        "# Contains an assets folder, saved_model.pb, and variables folder.\n",
        "!ls '/cyclone_dataset/outputs/saved_model/my_model'\n",
        "\n",
        "new_model = tf.keras.models.load_model('/cyclone_dataset/outputs/saved_model/my_model')\n",
        "\n",
        "# Check its architecture\n",
        "new_model.summary()\n",
        "\n",
        "# Evaluate the restored model\n",
        "#loss, acc = new_model.evaluate(x = ([img1[:32], img2[:32]]), flow_data[:32,:,:,:], verbose=2)\n",
        "#print('Restored model, accuracy: {:5.2f}%'.format(100 * acc))\n",
        "\n",
        "#print(new_model.predict(img1[:16]).shape)"
      ]
    },
    {
      "cell_type": "code",
      "execution_count": null,
      "metadata": {
        "id": "wamboNzBZjsQ"
      },
      "outputs": [],
      "source": [
        "def vortex_disp(flow, image1, df, i):\n",
        "\n",
        "    u = flow[:,:,0]\n",
        "    v = flow[:,:,1]\n",
        "\n",
        "    tu = df[:,:,0]  #cv2.resize(df[:,:,0], (w//2,h//2))\n",
        "    tv = df[:,:,1] #cv2.resize(df[:,:,1], (w//2,h//2))\n",
        "\n",
        "    image = cv2.resize(image1, (w//2,h//2))\n",
        "\n",
        "    # --- Compute flow magnitude\n",
        "    norm = np.sqrt(u ** 2 + v ** 2)\n",
        "    nameee = str(imglist1[i])\n",
        "    # --- Display\n",
        "    fig, (ax0, ax1, ax2, ax3) = plt.subplots(1, 4, figsize=(16,12))\n",
        "\n",
        "    # # --- Sequence image sample\n",
        "\n",
        "    ax0.imshow(flo2img.flow_to_image(df))\n",
        "    ax0.set_title(\"mwetkf output\")\n",
        "    ax0.set_axis_off()\n",
        "\n",
        "    # --- Quiver plot arguments\n",
        "\n",
        "    nvec = 25 # Number of vectors to be displayed along each image dimension\n",
        "    nl, nc = image.shape\n",
        "    step = max(nl//nvec, nc//nvec)\n",
        "\n",
        "    y, x = np.mgrid[:nl:step, :nc:step]\n",
        "    u_ = tu[::step, ::step]\n",
        "    v_ = tv[::step, ::step]\n",
        "\n",
        "    ax1.imshow(image,'gray')\n",
        "    ax1.quiver(x, y, u_, v_, color='r', units='dots',\n",
        "               angles='xy', scale_units='xy', lw=1)\n",
        "    # ax1.set_title(\"Optical flow magnitude and vector field\")\n",
        "    ax1.set_axis_off()\n",
        "\n",
        "    ax2.imshow(flo2img.flow_to_image(flow))\n",
        "    ax2.set_title(\"Train - 40 epochs(bs - 16)\")\n",
        "    ax2.set_axis_off()\n",
        "    fig.tight_layout()\n",
        "\n",
        "    y, x = np.mgrid[:nl:step, :nc:step]\n",
        "    u_ = u[::step, ::step]\n",
        "    v_ = v[::step, ::step]\n",
        "\n",
        "    ax3.imshow(image,'gray')\n",
        "    ax3.quiver(x, y, u_, v_, color='r', units='dots',\n",
        "               angles='xy', scale_units='xy', lw=1)\n",
        "    ax3.set_title(\"hudhud - %06s\" %str(nameee[62:68]))\n",
        "    ax3.set_axis_off()\n",
        "\n",
        "\n",
        "\n",
        "    #fig.savefig(ouptuts + \"hudhud/\"+ str(nameee[62:68]) + \".png\" , bbox_inches = 'tight', pad_inches = 0)\n",
        "\n",
        "    plt.show()"
      ]
    },
    {
      "cell_type": "code",
      "execution_count": null,
      "metadata": {
        "id": "qfYh3pyiZmx-"
      },
      "outputs": [],
      "source": [
        "import cv2\n",
        "for i in range(len(predictions)):\n",
        "    vortex_disp(predictions[i,:,:,:], i1[i,:,:,0], flow_data[i,:,:,:], i)\n"
      ]
    },
    {
      "cell_type": "code",
      "execution_count": null,
      "metadata": {
        "colab": {
          "base_uri": "https://localhost:8080/",
          "height": 286
        },
        "id": "cPAP_RsDmVwO",
        "outputId": "4ab60475-2a4e-457e-c8e8-1d1c8088558c"
      },
      "outputs": [
        {
          "data": {
            "text/plain": [
              "<matplotlib.image.AxesImage at 0x7fe1dfcf4290>"
            ]
          },
          "execution_count": 21,
          "metadata": {},
          "output_type": "execute_result"
        },
        {
          "data": {
            "image/png": "[encoded data removed]",
            "text/plain": [
              "<Figure size 432x288 with 1 Axes>"
            ]
          },
          "metadata": {},
          "output_type": "display_data"
        }
      ],
      "source": [
        "import flo2img\n",
        "i = 1\n",
        "plt.imshow(flo2img.flow_to_image(flow_data[i,:,:,:]))"
      ]
    },
    {
      "cell_type": "code",
      "execution_count": null,
      "metadata": {
        "colab": {
          "base_uri": "https://localhost:8080/"
        },
        "id": "7s-FB03Ym8GO",
        "outputId": "27c2fb82-24c7-4cc6-a8df-d01612a49681"
      },
      "outputs": [
        {
          "name": "stdout",
          "output_type": "stream",
          "text": [
            "802\n"
          ]
        }
      ],
      "source": [
        "print(len(flow_data))"
      ]
    }
  ]
}